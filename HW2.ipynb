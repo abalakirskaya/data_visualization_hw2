{
 "cells": [
  {
   "cell_type": "code",
   "execution_count": null,
   "id": "6237a09e",
   "metadata": {},
   "outputs": [],
   "source": [
    "import pandas as pd\n",
    "import altair as alt"
   ]
  },
  {
   "cell_type": "code",
   "execution_count": null,
   "id": "b468b1d3",
   "metadata": {},
   "outputs": [],
   "source": [
    "df = pd.read_excel('2014-2020.xlsx')"
   ]
  },
  {
   "cell_type": "code",
   "execution_count": null,
   "id": "190525d0",
   "metadata": {},
   "outputs": [],
   "source": [
    "df.columns = ['Time/Date', 'AES', 'TEC', 'VDE', 'TES', 'GES', 'GAES_GEN',\n",
    "       'CONSUMPTION', 'GAES_PUMP', 'UK_BLR_RUS', 'UK_EURO', 'UK_MLD',\n",
    "       'Unnamed: 12']"
   ]
  },
  {
   "cell_type": "code",
   "execution_count": null,
   "id": "9414356b",
   "metadata": {},
   "outputs": [],
   "source": [
    "df['year'] = df['Time/Date'].apply(lambda x: int(x[-4:]))\n",
    "\n",
    "df['time'] = df['Time/Date'].apply(lambda x: int(x.split('-', 1)[0]))\n",
    "\n",
    "df['Time/Date'] = df['Time/Date'].apply(lambda x: x.split('-', 1)[1])\n",
    "\n",
    "df['Time/Date'] = df['Time/Date'].apply(lambda x: x[:-5])\n",
    "df['day_moth'] = df[['Time/Date']]\n",
    "\n",
    "df['month'] = df['Time/Date'].apply(lambda x: x[-2:])\n",
    "\n",
    "df['Time/Date'] = df['Time/Date'].apply(lambda x: x[:-3])"
   ]
  },
  {
   "cell_type": "code",
   "execution_count": null,
   "id": "b63aa409",
   "metadata": {},
   "outputs": [],
   "source": [
    "df.columns = ['Day', 'AES', 'TEC', 'VDE', 'TES', 'GES', 'GAES_GEN',\n",
    "       'CONSUMPTION', 'GAES_PUMP', 'UK_BLR_RUS', 'UK_EURO', 'UK_MLD',\n",
    "       'Unnamed: 12', 'year', 'time', 'day_moth', 'month']\n",
    "\n",
    "df.drop(['Unnamed: 12'], axis = 1, inplace = True)"
   ]
  },
  {
   "cell_type": "code",
   "execution_count": null,
   "id": "bf54dbc3",
   "metadata": {},
   "outputs": [],
   "source": [
    "aes_df = df[['time', 'Day', 'month', 'year', 'AES']]\n",
    "aes_df.columns = ['time', 'Day', 'month', 'year', 'generation']\n",
    "#aes_df['type'] = 'AES'\n",
    "aes_df.loc[:, 'type'] = 'AES'\n",
    "\n",
    "tec_df = df[['time', 'Day', 'month', 'year', 'TEC']]\n",
    "tec_df.columns = ['time', 'Day', 'month', 'year', 'generation']\n",
    "tec_df.loc[:, 'type'] = 'TEC'\n",
    "\n",
    "vde_df = df[['time', 'Day', 'month', 'year', 'VDE']]\n",
    "vde_df.columns = ['time', 'Day', 'month', 'year', 'generation']\n",
    "vde_df.loc[:, 'type'] = 'VDE'\n",
    "\n",
    "tes_df = df[['time', 'Day', 'month', 'year', 'TES']]\n",
    "tes_df.columns = ['time', 'Day', 'month', 'year', 'generation']\n",
    "tes_df.loc[:, 'type'] = 'TES'\n",
    "\n",
    "ges_df = df[['time', 'Day', 'month', 'year', 'GES']]\n",
    "ges_df.columns = ['time', 'Day', 'month', 'year', 'generation']\n",
    "ges_df.loc[:, 'type'] = 'GES'\n",
    "\n",
    "gaes_df = df[['time', 'Day', 'month', 'year', 'GAES_GEN']]\n",
    "gaes_df.columns = ['time', 'Day', 'month', 'year', 'generation']\n",
    "gaes_df.loc[:, 'type'] = 'GAES'\n",
    "\n",
    "data = pd.concat([aes_df, tec_df, vde_df, tes_df, ges_df, gaes_df])"
   ]
  },
  {
   "cell_type": "code",
   "execution_count": null,
   "id": "e004f32f",
   "metadata": {},
   "outputs": [],
   "source": [
    "alt.data_transformers.disable_max_rows()\n"
   ]
  },
  {
   "cell_type": "code",
   "execution_count": null,
   "id": "0164cac7",
   "metadata": {},
   "outputs": [],
   "source": [
    "alt.Chart(data).transform_filter(alt.FieldRangePredicate(field='year', range = [2014, 2020])).mark_area().encode(\n",
    "    x = alt.X('year:Q'),\n",
    "    y = alt.Y('generation:Q', aggregate = 'sum'),\n",
    "    color = alt.Color('type:N'),\n",
    "    order = alt.Order('generation:Q', aggregate='sum', sort = 'ascending')\n",
    ").properties(width = 950, height = 500, background = '#F9F9F9', padding = 25)"
   ]
  },
  {
   "cell_type": "code",
   "execution_count": null,
   "id": "0a64978d",
   "metadata": {},
   "outputs": [],
   "source": [
    "alt.Chart(df).transform_filter(alt.FieldRangePredicate(field='year', range=[2014, 2020])).mark_rect().encode(\n",
    "    x = alt.X('time:Q'),\n",
    "    y = alt.Y('day_moth:N', sort = alt.SortField('order')),\n",
    "    color = alt.Color('CONSUMPTION:Q', scale = alt.Scale(scheme = 'pinkyellowgreen'))\n",
    ").properties(width = 950)"
   ]
  },
  {
   "cell_type": "code",
   "execution_count": null,
   "id": "cb2f8066",
   "metadata": {},
   "outputs": [],
   "source": [
    "alt.Chart(data).transform_filter(alt.FieldRangePredicate(field='year', range=[2014, 2020])).mark_rect().encode(\n",
    "    x = alt.X('time:Q'),\n",
    "    y = alt.Y('type:N', sort = alt.Sort(field = 'generation', op = 'mean', order = 'descending')),\n",
    "    color = alt.Color('generation:Q', scale = alt.Scale(scheme = 'pinkyellowgreen'))\n",
    ").properties(width = 950)"
   ]
  },
  {
   "cell_type": "code",
   "execution_count": null,
   "id": "55454683",
   "metadata": {},
   "outputs": [],
   "source": [
    "alt.Chart(df).transform_filter(alt.FieldRangePredicate(field='year', range=[2014, 2020])).mark_rect().encode(\n",
    "    x = alt.X('time:Q'),\n",
    "    y = alt.Y('month:N', sort = alt.SortField('order')),\n",
    "    color = alt.Color('CONSUMPTION:Q', scale = alt.Scale(scheme = 'pinkyellowgreen'))\n",
    ").properties(width = 950)"
   ]
  },
  {
   "cell_type": "code",
   "execution_count": null,
   "id": "8f2459eb",
   "metadata": {},
   "outputs": [],
   "source": [
    "df.loc[:, 'season'] = ''\n",
    "seasons = {'12':'winter', '01':'winter', '02':'winter', '03':'spring', '04':'spring', '05':'spring', '06':'summer', '07':'summer', '08':'summer', '09':'autumn', '10':'autumn', '11':'autumn'}\n",
    "\n",
    "df['season'] = df.apply(lambda x: seasons[x['month']], axis=1)"
   ]
  },
  {
   "cell_type": "code",
   "execution_count": null,
   "id": "e3e94e41",
   "metadata": {},
   "outputs": [],
   "source": [
    "alt.Chart(df).transform_filter(alt.FieldRangePredicate(field='year', range=[2014, 2020])).mark_rect().encode(\n",
    "    x = alt.X('time:Q'),\n",
    "    y = alt.Y('season:N', sort = alt.SortField('order')),\n",
    "    color = alt.Color('CONSUMPTION:Q', scale = alt.Scale(scheme = 'pinkyellowgreen'))\n",
    ").properties(width = 950)"
   ]
  }
 ],
 "metadata": {
  "kernelspec": {
   "display_name": "Python 3 (ipykernel)",
   "language": "python",
   "name": "python3"
  },
  "language_info": {
   "codemirror_mode": {
    "name": "ipython",
    "version": 3
   },
   "file_extension": ".py",
   "mimetype": "text/x-python",
   "name": "python",
   "nbconvert_exporter": "python",
   "pygments_lexer": "ipython3",
   "version": "3.7.11"
  }
 },
 "nbformat": 4,
 "nbformat_minor": 5
}
