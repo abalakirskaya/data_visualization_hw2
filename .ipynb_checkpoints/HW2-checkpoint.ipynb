{
 "cells": [
  {
   "cell_type": "code",
   "execution_count": null,
   "id": "6237a09e",
   "metadata": {},
   "outputs": [],
   "source": [
    "import pandas as pd\n",
    "import altair as alt\n",
    "from datetime import datetime\n",
    "import calendar"
   ]
  },
  {
   "cell_type": "code",
   "execution_count": null,
   "id": "b468b1d3",
   "metadata": {},
   "outputs": [],
   "source": [
    "df = pd.read_excel('2014-2020.xlsx')"
   ]
  },
  {
   "cell_type": "code",
   "execution_count": null,
   "id": "190525d0",
   "metadata": {},
   "outputs": [],
   "source": [
    "df.columns = ['Time/Date', 'AES', 'TEC', 'VDE', 'TES', 'GES', 'GAES_GEN',\n",
    "       'CONSUMPTION', 'GAES_PUMP', 'UK_BLR_RUS', 'UK_EURO', 'UK_MLD',\n",
    "       'Unnamed: 12']"
   ]
  },
  {
   "cell_type": "code",
   "execution_count": null,
   "id": "9414356b",
   "metadata": {},
   "outputs": [],
   "source": [
    "df['year'] = df['Time/Date'].apply(lambda x: int(x[-4:]))\n",
    "\n",
    "df['time'] = df['Time/Date'].apply(lambda x: int(x.split('-', 1)[0]))\n",
    "\n",
    "df['Time/Date'] = df['Time/Date'].apply(lambda x: x.split('-', 1)[1])\n",
    "\n",
    "df['Time/Date'] = df['Time/Date'].apply(lambda x: x[:-5])\n",
    "df['day_moth'] = df[['Time/Date']]\n",
    "\n",
    "df['month'] = df['Time/Date'].apply(lambda x: int(x[-2:]))\n",
    "\n",
    "df['Time/Date'] = df['Time/Date'].apply(lambda x: int(x[:-3]))"
   ]
  },
  {
   "cell_type": "code",
   "execution_count": null,
   "id": "b63aa409",
   "metadata": {},
   "outputs": [],
   "source": [
    "df.columns = ['Day', 'AES', 'TEC', 'VDE', 'TES', 'GES', 'GAES_GEN',\n",
    "       'CONSUMPTION', 'GAES_PUMP', 'UK_BLR_RUS', 'UK_EURO', 'UK_MLD',\n",
    "       'Unnamed: 12', 'year', 'time', 'day_moth', 'month']\n",
    "\n",
    "df.drop(['Unnamed: 12'], axis = 1, inplace = True)"
   ]
  },
  {
   "cell_type": "code",
   "execution_count": null,
   "id": "bf54dbc3",
   "metadata": {},
   "outputs": [],
   "source": [
    "aes_df = df[['time', 'Day', 'month', 'year', 'AES']]\n",
    "aes_df.columns = ['time', 'Day', 'month', 'year', 'generation']\n",
    "#aes_df['type'] = 'AES'\n",
    "aes_df.loc[:, 'type'] = 'AES'\n",
    "\n",
    "tec_df = df[['time', 'Day', 'month', 'year', 'TEC']]\n",
    "tec_df.columns = ['time', 'Day', 'month', 'year', 'generation']\n",
    "tec_df.loc[:, 'type'] = 'TEC'\n",
    "\n",
    "vde_df = df[['time', 'Day', 'month', 'year', 'VDE']]\n",
    "vde_df.columns = ['time', 'Day', 'month', 'year', 'generation']\n",
    "vde_df.loc[:, 'type'] = 'VDE'\n",
    "\n",
    "tes_df = df[['time', 'Day', 'month', 'year', 'TES']]\n",
    "tes_df.columns = ['time', 'Day', 'month', 'year', 'generation']\n",
    "tes_df.loc[:, 'type'] = 'TES'\n",
    "\n",
    "ges_df = df[['time', 'Day', 'month', 'year', 'GES']]\n",
    "ges_df.columns = ['time', 'Day', 'month', 'year', 'generation']\n",
    "ges_df.loc[:, 'type'] = 'GES'\n",
    "\n",
    "gaes_df = df[['time', 'Day', 'month', 'year', 'GAES_GEN']]\n",
    "gaes_df.columns = ['time', 'Day', 'month', 'year', 'generation']\n",
    "gaes_df.loc[:, 'type'] = 'GAES'\n",
    "\n",
    "data = pd.concat([aes_df, tec_df, vde_df, tes_df, ges_df, gaes_df])"
   ]
  },
  {
   "cell_type": "code",
   "execution_count": null,
   "id": "e004f32f",
   "metadata": {
    "scrolled": true
   },
   "outputs": [],
   "source": [
    "alt.data_transformers.disable_max_rows()\n"
   ]
  },
  {
   "cell_type": "markdown",
   "id": "cc5f1b16",
   "metadata": {},
   "source": [
    "**- Як змінювалась структура генерації електроенергії за роками?**\n",
    "\n",
    "Я вибрала саме такий спосіб візуалізації, бо він показує скільки всього електроенергії вироблено, а також в ньому наглядно показано які саме електростанції виробили цю енергію. Як альтернативу я розглядала графік на якому відсотково розподілено які електростанції скільки електроенергії виробили. Проблема такого відсоткового розподілення в тому, що ми не бачимо саме число скільки електроенергії вироблено і не бачимо тенденцію, оскільки всі електростанції в сумі дають 100%."
   ]
  },
  {
   "cell_type": "code",
   "execution_count": null,
   "id": "0164cac7",
   "metadata": {},
   "outputs": [],
   "source": [
    "alt.Chart(data).transform_filter(alt.FieldRangePredicate(field='year', range = [2014, 2020])).mark_area().encode(\n",
    "    x = alt.X('year:Q'),\n",
    "    y = alt.Y('generation:Q', aggregate = 'sum'),\n",
    "    color = alt.Color('type:N'),\n",
    "    order = alt.Order('generation:Q', aggregate='sum', sort = 'ascending')\n",
    ").properties(width = 950, height = 500, background = '#F9F9F9', padding = 25)"
   ]
  },
  {
   "cell_type": "markdown",
   "id": "0c907056",
   "metadata": {},
   "source": [
    "**- Як залежить споживання електроенергії від дня року та години доби?**\n",
    "Я вибрала саме такий тип візуалізації, бо на ній дуже легко наглядно показати три змінних - день, годину та споживання. В моїй візуалізації дні йдуть так як і в житті, що дозволяє побачити тенденцію споживання електроенергії протягом року, а також можна побачити патерн споживання електроенергії який повторюється кожного місяця."
   ]
  },
  {
   "cell_type": "code",
   "execution_count": null,
   "id": "0a64978d",
   "metadata": {
    "scrolled": true
   },
   "outputs": [],
   "source": [
    "alt.Chart(df).transform_filter(alt.FieldRangePredicate(field='year', range=[2014, 2020])).mark_rect().encode(\n",
    "    x = alt.X('time:Q'),\n",
    "    y = alt.Y('day_moth:N', sort = alt.SortField('order')),\n",
    "    color = alt.Color('CONSUMPTION:Q', scale = alt.Scale(scheme = 'pinkyellowgreen'))\n",
    ").properties(width = 950)"
   ]
  },
  {
   "cell_type": "markdown",
   "id": "fd9035ff",
   "metadata": {},
   "source": [
    "**- Як змінюється генерація електроенергії з різних джерел впродовж доби?**\n",
    "Я вибрала саме таку візуалізацію, бо вона компактна і дозволяє одразу порівняти вироблення електроенергії з різних джерел протягом доби. Також можна подивитися як генерується енектроенершія протягом доби для конкретної електростанції. Я відсортувала електростанції від тої, яка виробляє найбільше електроенергії, до тої що найменше, що дозволило одразу бачити ці показники в загальному вигляді."
   ]
  },
  {
   "cell_type": "code",
   "execution_count": null,
   "id": "cb2f8066",
   "metadata": {
    "scrolled": true
   },
   "outputs": [],
   "source": [
    "alt.Chart(data).transform_filter(alt.FieldRangePredicate(field='year', range=[2014, 2020])).mark_rect().encode(\n",
    "    x = alt.X('time:Q'),\n",
    "    y = alt.Y('type:N', sort = alt.Sort(field = 'generation', op = 'mean', order = 'descending')),\n",
    "    color = alt.Color('generation:Q', scale = alt.Scale(scheme = 'pinkyellowgreen'))\n",
    ").properties(width = 950)"
   ]
  },
  {
   "cell_type": "markdown",
   "id": "bb86a118",
   "metadata": {},
   "source": [
    "**- Як змінюється споживання електроенергії впродовж доби у розрізі місяців року та пір року?**\n",
    "Я вирішила зробити два окремих графіки - для місяців та для пір року. Графіки збудовані так само як і в минулому питанні, оскільки вони дозволяють побачити споживання електроенегрії в конкретну годину в конкретний місяць(сезон)."
   ]
  },
  {
   "cell_type": "code",
   "execution_count": null,
   "id": "55454683",
   "metadata": {
    "scrolled": false
   },
   "outputs": [],
   "source": [
    "alt.Chart(df).transform_filter(alt.FieldRangePredicate(field='year', range=[2014, 2020])).mark_rect().encode(\n",
    "    x = alt.X('time:Q'),\n",
    "    y = alt.Y('month:N', sort = alt.SortField('order')),\n",
    "    color = alt.Color('CONSUMPTION:Q', scale = alt.Scale(scheme = 'pinkyellowgreen'))\n",
    ").properties(width = 950)"
   ]
  },
  {
   "cell_type": "code",
   "execution_count": null,
   "id": "8f2459eb",
   "metadata": {},
   "outputs": [],
   "source": [
    "df.loc[:, 'season'] = ''\n",
    "seasons = {'12':'winter', '01':'winter', '02':'winter', '03':'spring', '04':'spring', '05':'spring', '06':'summer', '07':'summer', '08':'summer', '09':'autumn', '10':'autumn', '11':'autumn'}\n",
    "\n",
    "df['season'] = df.apply(lambda x: seasons[x['month']], axis=1)"
   ]
  },
  {
   "cell_type": "code",
   "execution_count": null,
   "id": "e3e94e41",
   "metadata": {},
   "outputs": [],
   "source": [
    "alt.Chart(df).transform_filter(alt.FieldRangePredicate(field='year', range=[2014, 2020])).mark_rect().encode(\n",
    "    x = alt.X('time:Q'),\n",
    "    y = alt.Y('season:N', sort = alt.SortField('order')),\n",
    "    color = alt.Color('CONSUMPTION:Q', scale = alt.Scale(scheme = 'pinkyellowgreen'))\n",
    ").properties(width = 950)"
   ]
  },
  {
   "cell_type": "code",
   "execution_count": null,
   "id": "89fa16ad",
   "metadata": {},
   "outputs": [],
   "source": [
    "df[\"day_of_week\"] = df.apply(lambda row: calendar.day_name[datetime(row[\"year\"], row[\"month\"], row[\"Day\"]).weekday()],axis=1)\n",
    "\n"
   ]
  },
  {
   "cell_type": "markdown",
   "id": "056377dc",
   "metadata": {},
   "source": [
    "**- Як змінюється споживання електроенергії впродовж тижня?**\n",
    "Длі візуалізації споживання електроенергії впродовж тижня я взяла звичайний бар-чарт та посортувала значення по днях тижня. Альтернативою є звичайний графік з точками і лінією, який так само легко сприймається як і бар чарт."
   ]
  },
  {
   "cell_type": "code",
   "execution_count": null,
   "id": "891d111b",
   "metadata": {
    "scrolled": true
   },
   "outputs": [],
   "source": [
    "alt.Chart(df).mark_bar().encode(\n",
    "    x = alt.X('day_of_week:N', sort=['Monday', 'Tuesday', 'Wednesday', 'Thursday', 'Friday', 'Saturday', 'Sunday']),\n",
    "    y = alt.Y('CONSUMPTION:Q', aggregate = 'mean'),\n",
    "    tooltip = alt.Tooltip('CONSUMPTION', aggregate = 'mean')\n",
    ").properties(width = 800, height = 500)"
   ]
  },
  {
   "cell_type": "code",
   "execution_count": null,
   "id": "75f32c96",
   "metadata": {},
   "outputs": [],
   "source": []
  }
 ],
 "metadata": {
  "kernelspec": {
   "display_name": "Python 3 (ipykernel)",
   "language": "python",
   "name": "python3"
  },
  "language_info": {
   "codemirror_mode": {
    "name": "ipython",
    "version": 3
   },
   "file_extension": ".py",
   "mimetype": "text/x-python",
   "name": "python",
   "nbconvert_exporter": "python",
   "pygments_lexer": "ipython3",
   "version": "3.7.11"
  }
 },
 "nbformat": 4,
 "nbformat_minor": 5
}
